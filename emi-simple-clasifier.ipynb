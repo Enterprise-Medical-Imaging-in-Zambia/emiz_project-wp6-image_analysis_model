{
 "cells": [
  {
   "cell_type": "code",
   "execution_count": 1,
   "id": "ae6567bb",
   "metadata": {
    "_cell_guid": "b1076dfc-b9ad-4769-8c92-a6c4dae69d19",
    "_uuid": "8f2839f25d086af736a60e9eeb907d3b93b6e0e5",
    "execution": {
     "iopub.execute_input": "2023-07-28T06:54:45.686956Z",
     "iopub.status.busy": "2023-07-28T06:54:45.685883Z",
     "iopub.status.idle": "2023-07-28T06:54:45.698541Z",
     "shell.execute_reply": "2023-07-28T06:54:45.697242Z"
    },
    "papermill": {
     "duration": 0.020457,
     "end_time": "2023-07-28T06:54:45.701015",
     "exception": false,
     "start_time": "2023-07-28T06:54:45.680558",
     "status": "completed"
    },
    "tags": []
   },
   "outputs": [],
   "source": [
    "# This Python 3 environment comes with many helpful analytics libraries installed\n",
    "# It is defined by the kaggle/python Docker image: https://github.com/kaggle/docker-python\n",
    "# For example, here's several helpful packages to load\n",
    "\n",
    "import numpy as np # linear algebra\n",
    "import pandas as pd # data processing, CSV file I/O (e.g. pd.read_csv)\n",
    "\n",
    "# Input data files are available in the read-only \"../input/\" directory\n",
    "# For example, running this (by clicking run or pressing Shift+Enter) will list all files under the input directory\n",
    "\n",
    "import os\n",
    "\n",
    "\n",
    "# You can write up to 20GB to the current directory (/kaggle/working/) that gets preserved as output when you create a version using \"Save & Run All\" \n",
    "# You can also write temporary files to /kaggle/temp/, but they won't be saved outside of the current session"
   ]
  },
  {
   "cell_type": "markdown",
   "id": "291fe792",
   "metadata": {
    "papermill": {
     "duration": 0.003075,
     "end_time": "2023-07-28T06:54:45.707698",
     "exception": false,
     "start_time": "2023-07-28T06:54:45.704623",
     "status": "completed"
    },
    "tags": []
   },
   "source": [
    "The above comes as a default and I wont delete it."
   ]
  },
  {
   "cell_type": "code",
   "execution_count": 2,
   "id": "20febe61",
   "metadata": {
    "execution": {
     "iopub.execute_input": "2023-07-28T06:54:45.715911Z",
     "iopub.status.busy": "2023-07-28T06:54:45.715561Z",
     "iopub.status.idle": "2023-07-28T06:54:54.269740Z",
     "shell.execute_reply": "2023-07-28T06:54:54.268518Z"
    },
    "papermill": {
     "duration": 8.561501,
     "end_time": "2023-07-28T06:54:54.272409",
     "exception": false,
     "start_time": "2023-07-28T06:54:45.710908",
     "status": "completed"
    },
    "tags": []
   },
   "outputs": [
    {
     "name": "stderr",
     "output_type": "stream",
     "text": [
      "/opt/conda/lib/python3.10/site-packages/scipy/__init__.py:146: UserWarning: A NumPy version >=1.16.5 and <1.23.0 is required for this version of SciPy (detected version 1.23.5\n",
      "  warnings.warn(f\"A NumPy version >={np_minversion} and <{np_maxversion}\"\n",
      "/opt/conda/lib/python3.10/site-packages/tensorflow_io/python/ops/__init__.py:98: UserWarning: unable to load libtensorflow_io_plugins.so: unable to open file: libtensorflow_io_plugins.so, from paths: ['/opt/conda/lib/python3.10/site-packages/tensorflow_io/python/ops/libtensorflow_io_plugins.so']\n",
      "caused by: ['/opt/conda/lib/python3.10/site-packages/tensorflow_io/python/ops/libtensorflow_io_plugins.so: undefined symbol: _ZN3tsl6StatusC1EN10tensorflow5error4CodeESt17basic_string_viewIcSt11char_traitsIcEENS_14SourceLocationE']\n",
      "  warnings.warn(f\"unable to load libtensorflow_io_plugins.so: {e}\")\n",
      "/opt/conda/lib/python3.10/site-packages/tensorflow_io/python/ops/__init__.py:104: UserWarning: file system plugins are not loaded: unable to open file: libtensorflow_io.so, from paths: ['/opt/conda/lib/python3.10/site-packages/tensorflow_io/python/ops/libtensorflow_io.so']\n",
      "caused by: ['/opt/conda/lib/python3.10/site-packages/tensorflow_io/python/ops/libtensorflow_io.so: undefined symbol: _ZTVN10tensorflow13GcsFileSystemE']\n",
      "  warnings.warn(f\"file system plugins are not loaded: {e}\")\n"
     ]
    }
   ],
   "source": [
    "import tensorflow as tf\n",
    "from tensorflow.keras.preprocessing.image import ImageDataGenerator\n",
    "from tensorflow.keras.applications import VGG16\n",
    "from tensorflow.keras.models import Model\n",
    "from tensorflow.keras.layers import Dense, Dropout, Flatten\n"
   ]
  },
  {
   "cell_type": "markdown",
   "id": "f499d6a8",
   "metadata": {
    "papermill": {
     "duration": 0.003248,
     "end_time": "2023-07-28T06:54:54.279344",
     "exception": false,
     "start_time": "2023-07-28T06:54:54.276096",
     "status": "completed"
    },
    "tags": []
   },
   "source": [
    "Imagedatagenerator is a preprocessor VGG16 is a pretrained model"
   ]
  },
  {
   "cell_type": "code",
   "execution_count": 3,
   "id": "3d6c5876",
   "metadata": {
    "execution": {
     "iopub.execute_input": "2023-07-28T06:54:54.288313Z",
     "iopub.status.busy": "2023-07-28T06:54:54.287540Z",
     "iopub.status.idle": "2023-07-28T06:54:54.293178Z",
     "shell.execute_reply": "2023-07-28T06:54:54.292060Z"
    },
    "papermill": {
     "duration": 0.012412,
     "end_time": "2023-07-28T06:54:54.295244",
     "exception": false,
     "start_time": "2023-07-28T06:54:54.282832",
     "status": "completed"
    },
    "tags": []
   },
   "outputs": [],
   "source": [
    "# set paths\n",
    "train_dir = \"/kaggle/input/chest-xray-pneumonia/chest_xray/train\"\n",
    "val_dir = \"/kaggle/input/chest-xray-pneumonia/chest_xray/val\"\n",
    "test_dir = \"/kaggle/input/chest-xray-pneumonia/chest_xray/test\"\n",
    "\n",
    "# define some parameters\n",
    "img_height, img_width = 150, 150\n",
    "batch_size = 32\n"
   ]
  },
  {
   "cell_type": "markdown",
   "id": "ceb060d1",
   "metadata": {
    "papermill": {
     "duration": 0.003347,
     "end_time": "2023-07-28T06:54:54.302158",
     "exception": false,
     "start_time": "2023-07-28T06:54:54.298811",
     "status": "completed"
    },
    "tags": []
   },
   "source": [
    "Setting location variables"
   ]
  },
  {
   "cell_type": "code",
   "execution_count": 4,
   "id": "dd94bace",
   "metadata": {
    "execution": {
     "iopub.execute_input": "2023-07-28T06:54:54.311127Z",
     "iopub.status.busy": "2023-07-28T06:54:54.310383Z",
     "iopub.status.idle": "2023-07-28T06:54:59.085467Z",
     "shell.execute_reply": "2023-07-28T06:54:59.084454Z"
    },
    "papermill": {
     "duration": 4.78236,
     "end_time": "2023-07-28T06:54:59.087959",
     "exception": false,
     "start_time": "2023-07-28T06:54:54.305599",
     "status": "completed"
    },
    "tags": []
   },
   "outputs": [
    {
     "name": "stdout",
     "output_type": "stream",
     "text": [
      "Found 5216 images belonging to 2 classes.\n",
      "Found 16 images belonging to 2 classes.\n",
      "Found 624 images belonging to 2 classes.\n"
     ]
    }
   ],
   "source": [
    "# preprocess data\n",
    "train_datagen = ImageDataGenerator(rescale = 1./255)\n",
    "val_datagen = ImageDataGenerator(rescale = 1./255)\n",
    "test_datagen = ImageDataGenerator(rescale = 1./255)\n",
    "\n",
    "train_generator = train_datagen.flow_from_directory(\n",
    "    train_dir,\n",
    "    target_size = (img_height, img_width),\n",
    "    batch_size = batch_size,\n",
    "    class_mode = 'binary')\n",
    "\n",
    "validation_generator = val_datagen.flow_from_directory(\n",
    "    val_dir,\n",
    "    target_size = (img_height, img_width),\n",
    "    batch_size = batch_size,\n",
    "    class_mode = 'binary')\n",
    "\n",
    "test_generator = test_datagen.flow_from_directory(\n",
    "    test_dir,\n",
    "    target_size = (img_height, img_width),\n",
    "    batch_size = 1,\n",
    "    class_mode = 'binary',\n",
    "    shuffle = False)\n"
   ]
  },
  {
   "cell_type": "markdown",
   "id": "bb6a178e",
   "metadata": {
    "papermill": {
     "duration": 0.003412,
     "end_time": "2023-07-28T06:54:59.095115",
     "exception": false,
     "start_time": "2023-07-28T06:54:59.091703",
     "status": "completed"
    },
    "tags": []
   },
   "source": [
    "Work is happening"
   ]
  },
  {
   "cell_type": "code",
   "execution_count": 5,
   "id": "fabd7fa6",
   "metadata": {
    "execution": {
     "iopub.execute_input": "2023-07-28T06:54:59.104352Z",
     "iopub.status.busy": "2023-07-28T06:54:59.103754Z",
     "iopub.status.idle": "2023-07-28T06:55:02.968426Z",
     "shell.execute_reply": "2023-07-28T06:55:02.967334Z"
    },
    "papermill": {
     "duration": 3.872147,
     "end_time": "2023-07-28T06:55:02.970942",
     "exception": false,
     "start_time": "2023-07-28T06:54:59.098795",
     "status": "completed"
    },
    "tags": []
   },
   "outputs": [
    {
     "name": "stdout",
     "output_type": "stream",
     "text": [
      "Downloading data from https://storage.googleapis.com/tensorflow/keras-applications/vgg16/vgg16_weights_tf_dim_ordering_tf_kernels_notop.h5\n",
      "58889256/58889256 [==============================] - 3s 0us/step\n"
     ]
    }
   ],
   "source": [
    "# load base model\n",
    "base_model = VGG16(weights='imagenet', include_top=False, input_shape=(img_height, img_width, 3))\n",
    "\n",
    "# freeze base model\n",
    "for layer in base_model.layers:\n",
    "    layer.trainable = False\n",
    "\n",
    "# add new layers\n",
    "x = base_model.output\n",
    "x = Flatten()(x)\n",
    "x = Dense(1024, activation='relu')(x)\n",
    "x = Dropout(0.5)(x)\n",
    "predictions = Dense(1, activation='sigmoid')(x)\n",
    "model = Model(inputs=base_model.input, outputs=predictions)\n"
   ]
  },
  {
   "cell_type": "code",
   "execution_count": 6,
   "id": "225020e7",
   "metadata": {
    "execution": {
     "iopub.execute_input": "2023-07-28T06:55:02.986656Z",
     "iopub.status.busy": "2023-07-28T06:55:02.985666Z",
     "iopub.status.idle": "2023-07-28T10:20:16.721969Z",
     "shell.execute_reply": "2023-07-28T10:20:16.720868Z"
    },
    "papermill": {
     "duration": 12313.746332,
     "end_time": "2023-07-28T10:20:16.724078",
     "exception": false,
     "start_time": "2023-07-28T06:55:02.977746",
     "status": "completed"
    },
    "tags": []
   },
   "outputs": [
    {
     "name": "stdout",
     "output_type": "stream",
     "text": [
      "Epoch 1/20\n",
      "163/163 [==============================] - 580s 4s/step - loss: 0.1786 - accuracy: 0.9358 - val_loss: 0.3369 - val_accuracy: 0.8125\n",
      "Epoch 2/20\n",
      "163/163 [==============================] - 583s 4s/step - loss: 0.1130 - accuracy: 0.9553 - val_loss: 0.5864 - val_accuracy: 0.7500\n",
      "Epoch 3/20\n",
      "163/163 [==============================] - 584s 4s/step - loss: 0.0765 - accuracy: 0.9701 - val_loss: 0.3100 - val_accuracy: 0.8750\n",
      "Epoch 4/20\n",
      "163/163 [==============================] - 582s 4s/step - loss: 0.0604 - accuracy: 0.9787 - val_loss: 0.1029 - val_accuracy: 0.9375\n",
      "Epoch 5/20\n",
      "163/163 [==============================] - 589s 4s/step - loss: 0.0530 - accuracy: 0.9799 - val_loss: 0.2741 - val_accuracy: 0.8750\n",
      "Epoch 6/20\n",
      "163/163 [==============================] - 591s 4s/step - loss: 0.0594 - accuracy: 0.9760 - val_loss: 0.3289 - val_accuracy: 0.8750\n",
      "Epoch 7/20\n",
      "163/163 [==============================] - 588s 4s/step - loss: 0.0657 - accuracy: 0.9762 - val_loss: 0.8171 - val_accuracy: 0.6875\n",
      "Epoch 8/20\n",
      "163/163 [==============================] - 593s 4s/step - loss: 0.0521 - accuracy: 0.9806 - val_loss: 0.3088 - val_accuracy: 0.8750\n",
      "Epoch 9/20\n",
      "163/163 [==============================] - 595s 4s/step - loss: 0.0358 - accuracy: 0.9881 - val_loss: 0.1128 - val_accuracy: 0.9375\n",
      "Epoch 10/20\n",
      "163/163 [==============================] - 586s 4s/step - loss: 0.0485 - accuracy: 0.9820 - val_loss: 0.3204 - val_accuracy: 0.8750\n",
      "Epoch 11/20\n",
      "163/163 [==============================] - 593s 4s/step - loss: 0.0395 - accuracy: 0.9847 - val_loss: 0.1233 - val_accuracy: 0.9375\n",
      "Epoch 12/20\n",
      "163/163 [==============================] - 593s 4s/step - loss: 0.0432 - accuracy: 0.9818 - val_loss: 0.7015 - val_accuracy: 0.6875\n",
      "Epoch 13/20\n",
      "163/163 [==============================] - 593s 4s/step - loss: 0.0335 - accuracy: 0.9891 - val_loss: 0.1733 - val_accuracy: 0.9375\n",
      "Epoch 14/20\n",
      "163/163 [==============================] - 592s 4s/step - loss: 0.0240 - accuracy: 0.9918 - val_loss: 0.0625 - val_accuracy: 0.9375\n",
      "Epoch 15/20\n",
      "163/163 [==============================] - 591s 4s/step - loss: 0.0327 - accuracy: 0.9877 - val_loss: 0.6385 - val_accuracy: 0.7500\n",
      "Epoch 16/20\n",
      "163/163 [==============================] - 589s 4s/step - loss: 0.0351 - accuracy: 0.9864 - val_loss: 0.6281 - val_accuracy: 0.7500\n",
      "Epoch 17/20\n",
      "163/163 [==============================] - 594s 4s/step - loss: 0.0251 - accuracy: 0.9891 - val_loss: 0.0361 - val_accuracy: 1.0000\n",
      "Epoch 18/20\n",
      "163/163 [==============================] - 591s 4s/step - loss: 0.0254 - accuracy: 0.9914 - val_loss: 0.0710 - val_accuracy: 0.9375\n",
      "Epoch 19/20\n",
      "163/163 [==============================] - 593s 4s/step - loss: 0.0235 - accuracy: 0.9906 - val_loss: 0.1258 - val_accuracy: 0.9375\n",
      "Epoch 20/20\n",
      "163/163 [==============================] - 591s 4s/step - loss: 0.0191 - accuracy: 0.9939 - val_loss: 0.1255 - val_accuracy: 0.9375\n"
     ]
    },
    {
     "data": {
      "text/plain": [
       "<keras.callbacks.History at 0x7f5a02e68d30>"
      ]
     },
     "execution_count": 6,
     "metadata": {},
     "output_type": "execute_result"
    }
   ],
   "source": [
    "# compile model\n",
    "model.compile(optimizer='adam', loss='binary_crossentropy', metrics=['accuracy'])\n",
    "\n",
    "# train the model\n",
    "model.fit(\n",
    "    train_generator,\n",
    "    epochs = 20,\n",
    "    validation_data = validation_generator)\n"
   ]
  },
  {
   "cell_type": "code",
   "execution_count": 7,
   "id": "aebcd407",
   "metadata": {
    "execution": {
     "iopub.execute_input": "2023-07-28T10:20:17.147151Z",
     "iopub.status.busy": "2023-07-28T10:20:17.146425Z",
     "iopub.status.idle": "2023-07-28T11:21:51.961734Z",
     "shell.execute_reply": "2023-07-28T11:21:51.960466Z"
    },
    "papermill": {
     "duration": 3695.030862,
     "end_time": "2023-07-28T11:21:51.964162",
     "exception": false,
     "start_time": "2023-07-28T10:20:16.933300",
     "status": "completed"
    },
    "tags": []
   },
   "outputs": [
    {
     "name": "stdout",
     "output_type": "stream",
     "text": [
      "Epoch 1/6\n",
      "163/163 [==============================] - 585s 4s/step - loss: 0.0232 - accuracy: 0.9923 - val_loss: 0.5139 - val_accuracy: 0.8750\n",
      "Epoch 2/6\n",
      "163/163 [==============================] - 583s 4s/step - loss: 0.0253 - accuracy: 0.9912 - val_loss: 0.3381 - val_accuracy: 0.8750\n",
      "Epoch 3/6\n",
      "163/163 [==============================] - 583s 4s/step - loss: 0.0218 - accuracy: 0.9908 - val_loss: 0.0185 - val_accuracy: 1.0000\n",
      "Epoch 4/6\n",
      "163/163 [==============================] - 583s 4s/step - loss: 0.0235 - accuracy: 0.9912 - val_loss: 0.3446 - val_accuracy: 0.8750\n",
      "Epoch 5/6\n",
      "163/163 [==============================] - 583s 4s/step - loss: 0.0193 - accuracy: 0.9933 - val_loss: 0.0531 - val_accuracy: 1.0000\n",
      "Epoch 6/6\n",
      "163/163 [==============================] - 584s 4s/step - loss: 0.0128 - accuracy: 0.9960 - val_loss: 0.0543 - val_accuracy: 0.9375\n"
     ]
    },
    {
     "data": {
      "text/plain": [
       "<keras.callbacks.History at 0x7f5a66746830>"
      ]
     },
     "execution_count": 7,
     "metadata": {},
     "output_type": "execute_result"
    }
   ],
   "source": [
    "# compile model\n",
    "model.compile(optimizer='adam', loss='binary_crossentropy', metrics=['accuracy'])\n",
    "\n",
    "# train the model\n",
    "model.fit(\n",
    "    train_generator,\n",
    "    epochs = 6,\n",
    "    validation_data = validation_generator)\n"
   ]
  },
  {
   "cell_type": "code",
   "execution_count": 8,
   "id": "edda052c",
   "metadata": {
    "execution": {
     "iopub.execute_input": "2023-07-28T11:21:52.517638Z",
     "iopub.status.busy": "2023-07-28T11:21:52.516896Z",
     "iopub.status.idle": "2023-07-28T11:23:14.507280Z",
     "shell.execute_reply": "2023-07-28T11:23:14.505860Z"
    },
    "papermill": {
     "duration": 82.269641,
     "end_time": "2023-07-28T11:23:14.510176",
     "exception": false,
     "start_time": "2023-07-28T11:21:52.240535",
     "status": "completed"
    },
    "tags": []
   },
   "outputs": [
    {
     "name": "stdout",
     "output_type": "stream",
     "text": [
      "624/624 [==============================] - 76s 122ms/step - loss: 1.3173 - accuracy: 0.7917\n",
      "Test loss:  1.3172554969787598\n",
      "Test accuracy:  0.7916666865348816\n"
     ]
    }
   ],
   "source": [
    "# evaluate model\n",
    "loss, acc = model.evaluate(test_generator)\n",
    "print(\"Test loss: \", loss)\n",
    "print(\"Test accuracy: \", acc)\n"
   ]
  }
 ],
 "metadata": {
  "kernelspec": {
   "display_name": "Python 3",
   "language": "python",
   "name": "python3"
  },
  "language_info": {
   "codemirror_mode": {
    "name": "ipython",
    "version": 3
   },
   "file_extension": ".py",
   "mimetype": "text/x-python",
   "name": "python",
   "nbconvert_exporter": "python",
   "pygments_lexer": "ipython3",
   "version": "3.10.12"
  },
  "papermill": {
   "default_parameters": {},
   "duration": 16121.21367,
   "end_time": "2023-07-28T11:23:17.599153",
   "environment_variables": {},
   "exception": null,
   "input_path": "__notebook__.ipynb",
   "output_path": "__notebook__.ipynb",
   "parameters": {},
   "start_time": "2023-07-28T06:54:36.385483",
   "version": "2.4.0"
  }
 },
 "nbformat": 4,
 "nbformat_minor": 5
}
